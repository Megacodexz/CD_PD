{
 "cells": [
  {
   "cell_type": "code",
   "execution_count": 1,
   "metadata": {},
   "outputs": [],
   "source": [
    "import pandas as pd\n",
    "import numpy as np\n",
    "import matplotlib.pyplot as plt\n",
    "import seaborn as sns\n",
    "%matplotlib inline\n",
    "from scipy.io import loadmat"
   ]
  },
  {
   "cell_type": "code",
   "execution_count": 2,
   "metadata": {},
   "outputs": [],
   "source": [
    "mat = loadmat('CD_PD.mat', squeeze_me=True)\n",
    "datas = mat['dat']"
   ]
  },
  {
   "cell_type": "code",
   "execution_count": 3,
   "metadata": {},
   "outputs": [],
   "source": [
    "features = ['age', 'ed', 'gender', 'side', 'TMSE']\n",
    "sampleSize = datas.shape[0]\n",
    "df = pd.DataFrame(index = [i for i in range(sampleSize)], columns = features)\n",
    "for i in range(sampleSize):\n",
    "    for j in range(len(features)):\n",
    "        df.loc[i, features[j]] = datas[i][features[j]]\n",
    "        \n",
    "edUnique = df['ed'].unique()\n",
    "edDict = {}\n",
    "for i in range(len(edUnique)):\n",
    "    edDict[edUnique[i]] = edUnique[i][0]\n",
    "\n",
    "genderUnique = df['gender'].unique()\n",
    "genderDict = {}\n",
    "for i in range(len(genderUnique)):\n",
    "    genderDict[genderUnique[i]] = genderUnique[i][0]\n",
    "\n",
    "sideUnique = df['side'].unique()\n",
    "sideDict = {}\n",
    "for i in range(len(sideUnique)):\n",
    "    sideDict[sideUnique[i]] = sideUnique[i][0]\n",
    "    \n",
    "df['ed'] = df['ed'].replace(edDict)\n",
    "df['gender'] = df['gender'].replace(genderDict)\n",
    "df['side'] = df['side'].replace(sideDict)\n",
    "\n",
    "df = df.astype('float64')\n",
    "\n",
    "df = df.drop(df.loc[df['age'] == 0].index)\n",
    "df = df.drop(df.loc[df['TMSE'] == 0].index)\n",
    "df = df.reset_index(drop=True)\n",
    "sampleSize = df.shape[0]\n",
    "\n",
    "for i in range(sampleSize):\n",
    "    if df.loc[i, 'ed'] == 0:\n",
    "        if df.loc[i, 'TMSE'] >= 19:\n",
    "            df.loc[i, 'pass'] = 1\n",
    "        else:\n",
    "            df.loc[i, 'pass'] = 0\n",
    "    elif df.loc[i, 'ed'] == 1:\n",
    "        if df.loc[i, 'TMSE'] >= 23:\n",
    "            df.loc[i, 'pass'] = 1\n",
    "        else:\n",
    "            df.loc[i, 'pass'] = 0\n",
    "    elif df.loc[i, 'ed'] == 2 or df.loc[i, 'ed'] == 3:\n",
    "        if df.loc[i, 'TMSE'] >= 27:\n",
    "            df.loc[i, 'pass'] = 1\n",
    "        else:\n",
    "            df.loc[i, 'pass'] = 0\n",
    "    elif df.loc[i, 'ed'] >= 4:\n",
    "        if df.loc[i, 'TMSE'] >= 29:\n",
    "            df.loc[i, 'pass'] = 1\n",
    "        else:\n",
    "            df.loc[i, 'pass'] = 0\n",
    "\n",
    "from statistics import mean\n",
    "\n",
    "speedList = []\n",
    "timeDiffMeanList = []\n",
    "timeUsedList = []\n",
    "\n",
    "for i in range(sampleSize):\n",
    "    t = datas[i]['t']\n",
    "    x = datas[i]['x']\n",
    "    y = datas[i]['y']\n",
    "    n = t.shape[0]\n",
    "    \n",
    "    timeUsed = t[-1]\n",
    "    timeUsedList.append(timeUsed)\n",
    "    \n",
    "    speed = []\n",
    "    timeDiffList = []\n",
    "    for j in range(n-1):\n",
    "        timeDiff = t[j+1] - t[j]\n",
    "        if timeDiff == 0:\n",
    "            continue\n",
    "        \n",
    "        xDiff = abs(x[j+1] - x[j])\n",
    "        yDiff = abs(y[j+1] - y[j])\n",
    "        length = (xDiff ** 2 + yDiff ** 2) ** 0.5\n",
    "        speed.append(length / timeDiff)\n",
    "        \n",
    "        timeDiffList.append(timeDiff)\n",
    "        \n",
    "    spMean = mean(speed)\n",
    "    speedList.append(spMean)\n",
    "    timeDiffMean = mean(timeDiffList)\n",
    "    timeDiffMeanList.append(timeDiffMean)\n",
    "    \n",
    "for i in range(sampleSize):\n",
    "    df.loc[i, 'speed'] = speedList[i]\n",
    "    df.loc[i, 'time_diff_mean'] = timeDiffMeanList[i]\n",
    "    df.loc[i, 'time_used'] = timeUsedList[i]\n",
    "\n",
    "labels = ['diagnosis', 'clock_drawing']\n",
    "for i in range(sampleSize):\n",
    "    for j in range(len(labels)):\n",
    "        df.loc[i, labels[j]] = datas[i][labels[j]]"
   ]
  },
  {
   "cell_type": "code",
   "execution_count": 4,
   "metadata": {},
   "outputs": [],
   "source": [
    "dropIndex = df[df['diagnosis'] == 1].sample(n=56, random_state = 0).index\n",
    "dfDropped = df.drop(dropIndex)\n",
    "dfDropped = dfDropped.sample(n = dfDropped.shape[0], random_state = 0)\n",
    "dfDropped = dfDropped.reset_index()"
   ]
  },
  {
   "cell_type": "code",
   "execution_count": 5,
   "metadata": {},
   "outputs": [],
   "source": [
    "X = dfDropped.iloc[:, :-2]\n",
    "Y = dfDropped.loc[:, 'diagnosis':'clock_drawing']\n",
    "\n",
    "y_diag = dfDropped['diagnosis']\n",
    "y_clk = dfDropped['clock_drawing']\n",
    "\n",
    "from sklearn.model_selection import train_test_split\n",
    "\n",
    "X_train, X_test, Y_train, Y_test = train_test_split(X, Y, random_state = 0)\n",
    "\n",
    "y_train_diag = Y_train['diagnosis']\n",
    "y_train_clk = Y_train['clock_drawing']\n",
    "y_test_diag = Y_test['diagnosis']\n",
    "y_test_clk = Y_test['clock_drawing']\n",
    "\n",
    "from sklearn.preprocessing import StandardScaler\n",
    "\n",
    "scaler = StandardScaler().fit(X_train)\n",
    "X = scaler.transform(X)\n",
    "X_train = scaler.transform(X_train)\n",
    "X_test = scaler.transform(X_test)"
   ]
  },
  {
   "cell_type": "markdown",
   "metadata": {},
   "source": [
    "# <font color=blue>SVC</font>"
   ]
  },
  {
   "cell_type": "code",
   "execution_count": 6,
   "metadata": {
    "scrolled": false
   },
   "outputs": [
    {
     "name": "stdout",
     "output_type": "stream",
     "text": [
      "0.7333333333333333\n",
      "0.7333333333333333\n"
     ]
    }
   ],
   "source": [
    "from sklearn.svm import SVC\n",
    "\n",
    "svc1 = SVC(kernel = 'linear', C = 1).fit(X_train, y_train_diag)\n",
    "\n",
    "print(svc1.score(X_test, y_test_diag))\n",
    "\n",
    "svc2 = SVC(kernel = 'linear', C = 10).fit(X_train, y_train_clk)\n",
    "print(svc2.score(X_test, y_test_clk))"
   ]
  },
  {
   "cell_type": "code",
   "execution_count": 7,
   "metadata": {
    "scrolled": false
   },
   "outputs": [
    {
     "name": "stdout",
     "output_type": "stream",
     "text": [
      "[[10  1]\n",
      " [ 7 12]]\n",
      "\n",
      "0.7703349282296651\n",
      "\n",
      "             precision    recall  f1-score   support\n",
      "\n",
      "        0.0       0.59      0.91      0.71        11\n",
      "        1.0       0.92      0.63      0.75        19\n",
      "\n",
      "avg / total       0.80      0.73      0.74        30\n",
      "\n"
     ]
    }
   ],
   "source": [
    "from sklearn.metrics import confusion_matrix\n",
    "from sklearn.metrics import roc_auc_score\n",
    "from sklearn.metrics import classification_report\n",
    "y_pred1 = svc1.predict(X_test)\n",
    "print(confusion_matrix(y_test_diag, y_pred1))\n",
    "print()\n",
    "roc_auc1 = roc_auc_score(y_test_diag, y_pred1)\n",
    "print(roc_auc1)\n",
    "print()\n",
    "print(classification_report(y_test_diag, y_pred1))"
   ]
  },
  {
   "cell_type": "code",
   "execution_count": 8,
   "metadata": {
    "scrolled": true
   },
   "outputs": [
    {
     "data": {
      "image/png": "[encoded data removed]",
      "text/plain": [
       "<Figure size 432x288 with 1 Axes>"
      ]
     },
     "metadata": {},
     "output_type": "display_data"
    }
   ],
   "source": [
    "from sklearn.metrics import roc_curve\n",
    "y_diag_scores = svc1.decision_function(X_test)\n",
    "fpr, tpr, thresholds = roc_curve(y_test_diag, y_diag_scores)\n",
    "plt.plot(fpr, tpr, color='darkorange', label='ROC curve (area = %0.2f)' % roc_auc1)\n",
    "plt.plot([0, 1], [0, 1], color='navy', linestyle='--')\n",
    "plt.xlim([0.0, 1.0])\n",
    "plt.ylim([0.0, 1.05])\n",
    "plt.xlabel('False Positive Rate')\n",
    "plt.ylabel('True Positive Rate')\n",
    "plt.title('Diagnosis')\n",
    "plt.legend(loc=\"lower right\")\n",
    "plt.show()"
   ]
  },
  {
   "cell_type": "code",
   "execution_count": 9,
   "metadata": {
    "scrolled": true
   },
   "outputs": [
    {
     "name": "stdout",
     "output_type": "stream",
     "text": [
      "[[14  6]\n",
      " [ 2  8]]\n",
      "\n",
      "0.75\n",
      "\n",
      "             precision    recall  f1-score   support\n",
      "\n",
      "        0.0       0.88      0.70      0.78        20\n",
      "        1.0       0.57      0.80      0.67        10\n",
      "\n",
      "avg / total       0.77      0.73      0.74        30\n",
      "\n"
     ]
    }
   ],
   "source": [
    "from sklearn.metrics import confusion_matrix\n",
    "from sklearn.metrics import roc_auc_score\n",
    "from sklearn.metrics import classification_report\n",
    "y_pred2 = svc2.predict(X_test)\n",
    "print(confusion_matrix(y_test_clk, y_pred2))\n",
    "print()\n",
    "roc_auc2 = roc_auc_score(y_test_clk, y_pred2)\n",
    "print(roc_auc2)\n",
    "print()\n",
    "print(classification_report(y_test_clk, y_pred2))"
   ]
  },
  {
   "cell_type": "code",
   "execution_count": 10,
   "metadata": {
    "scrolled": true
   },
   "outputs": [
    {
     "data": {
      "image/png": "[encoded data removed]",
      "text/plain": [
       "<Figure size 432x288 with 1 Axes>"
      ]
     },
     "metadata": {},
     "output_type": "display_data"
    }
   ],
   "source": [
    "y_clk_scores = svc2.decision_function(X_test)\n",
    "fpr, tpr, thresholds = roc_curve(y_test_clk, y_clk_scores)\n",
    "plt.plot(fpr, tpr, color='darkorange', label='ROC curve (area = %0.2f)' % roc_auc2)\n",
    "plt.plot([0, 1], [0, 1], color='navy', linestyle='--')\n",
    "plt.xlim([0.0, 1.0])\n",
    "plt.ylim([0.0, 1.05])\n",
    "plt.xlabel('False Positive Rate')\n",
    "plt.ylabel('True Positive Rate')\n",
    "plt.title('Clock Drawing')\n",
    "plt.legend(loc=\"lower right\")\n",
    "plt.show()"
   ]
  },
  {
   "cell_type": "code",
   "execution_count": 11,
   "metadata": {
    "scrolled": true
   },
   "outputs": [
    {
     "name": "stdout",
     "output_type": "stream",
     "text": [
      "[0.83333333 0.79166667 0.79166667 0.83333333 0.79166667]\n"
     ]
    }
   ],
   "source": [
    "from sklearn.model_selection import cross_val_score\n",
    "scores = cross_val_score(svc1, X, y_diag, cv=5)\n",
    "print(scores)"
   ]
  },
  {
   "cell_type": "code",
   "execution_count": 12,
   "metadata": {
    "scrolled": false
   },
   "outputs": [
    {
     "name": "stdout",
     "output_type": "stream",
     "text": [
      "[0.8        0.75       0.75       0.58333333 0.69565217]\n"
     ]
    }
   ],
   "source": [
    "from sklearn.model_selection import cross_val_score\n",
    "scores = cross_val_score(svc2, X, y_clk, cv=5)\n",
    "print(scores)"
   ]
  },
  {
   "cell_type": "code",
   "execution_count": 13,
   "metadata": {},
   "outputs": [],
   "source": [
    "# from sklearn.svm import SVC\n",
    "# from sklearn.model_selection import GridSearchCV\n",
    "# parameters = {'kernel':['linear'], 'C':[0.01, 0.1, 1, 10, 100]}\n",
    "# gsClf = GridSearchCV(SVC(), parameters, return_train_score=False).fit(X, y_diag)\n",
    "# gsClf.cv_results_"
   ]
  },
  {
   "cell_type": "code",
   "execution_count": 14,
   "metadata": {
    "scrolled": true
   },
   "outputs": [],
   "source": [
    "# from sklearn.svm import SVC\n",
    "# from sklearn.model_selection import GridSearchCV\n",
    "# parameters = {'kernel':['linear'], 'C':[0.01, 0.1, 1, 10, 100]}\n",
    "# gsClf = GridSearchCV(SVC(), parameters, return_train_score=False).fit(X, y_clk)\n",
    "# gsClf.cv_results_"
   ]
  },
  {
   "cell_type": "markdown",
   "metadata": {},
   "source": [
    "# <font color=green>Random Forest</font>"
   ]
  },
  {
   "cell_type": "code",
   "execution_count": 15,
   "metadata": {
    "scrolled": true
   },
   "outputs": [
    {
     "name": "stdout",
     "output_type": "stream",
     "text": [
      "0.7333333333333333\n",
      "[0.79166667 0.83333333 0.70833333 0.875      0.875     ]\n",
      "\n",
      "0.7\n",
      "[0.64       0.70833333 0.75       0.625      0.7826087 ]\n"
     ]
    }
   ],
   "source": [
    "from sklearn.ensemble import RandomForestClassifier\n",
    "from sklearn.model_selection import cross_val_score\n",
    "\n",
    "rfc1 = RandomForestClassifier(random_state = 1).fit(X_train, y_train_diag)\n",
    "print(rfc1.score(X_test, y_test_diag))\n",
    "scores1 = cross_val_score(rfc1, X, y_diag, cv=5)\n",
    "print(scores1)\n",
    "print()\n",
    "rfc2 = RandomForestClassifier(random_state = 1).fit(X_train, y_train_clk)\n",
    "print(rfc2.score(X_test, y_test_clk))\n",
    "scores2 = cross_val_score(rfc2, X, y_clk, cv=5)\n",
    "print(scores2)"
   ]
  },
  {
   "cell_type": "code",
   "execution_count": 16,
   "metadata": {
    "scrolled": true
   },
   "outputs": [
    {
     "name": "stdout",
     "output_type": "stream",
     "text": [
      "[[ 7  4]\n",
      " [ 4 15]]\n",
      "\n",
      "0.7129186602870813\n",
      "\n",
      "             precision    recall  f1-score   support\n",
      "\n",
      "        0.0       0.64      0.64      0.64        11\n",
      "        1.0       0.79      0.79      0.79        19\n",
      "\n",
      "avg / total       0.73      0.73      0.73        30\n",
      "\n"
     ]
    }
   ],
   "source": [
    "from sklearn.metrics import confusion_matrix\n",
    "from sklearn.metrics import roc_auc_score\n",
    "from sklearn.metrics import classification_report\n",
    "\n",
    "y_pred1 = rfc1.predict(X_test)\n",
    "print(confusion_matrix(y_test_diag, y_pred1))\n",
    "print()\n",
    "roc_auc1 = roc_auc_score(y_test_diag, y_pred1)\n",
    "print(roc_auc1)\n",
    "print()\n",
    "print(classification_report(y_test_diag, y_pred1))"
   ]
  },
  {
   "cell_type": "code",
   "execution_count": 17,
   "metadata": {},
   "outputs": [
    {
     "name": "stdout",
     "output_type": "stream",
     "text": [
      "[[15  5]\n",
      " [ 4  6]]\n",
      "\n",
      "0.675\n",
      "\n",
      "             precision    recall  f1-score   support\n",
      "\n",
      "        0.0       0.79      0.75      0.77        20\n",
      "        1.0       0.55      0.60      0.57        10\n",
      "\n",
      "avg / total       0.71      0.70      0.70        30\n",
      "\n"
     ]
    }
   ],
   "source": [
    "from sklearn.metrics import confusion_matrix\n",
    "from sklearn.metrics import roc_auc_score\n",
    "from sklearn.metrics import classification_report\n",
    "\n",
    "y_pred2 = rfc2.predict(X_test)\n",
    "print(confusion_matrix(y_test_clk, y_pred2))\n",
    "print()\n",
    "roc_auc2 = roc_auc_score(y_test_clk, y_pred2)\n",
    "print(roc_auc2)\n",
    "print()\n",
    "print(classification_report(y_test_clk, y_pred2))"
   ]
  },
  {
   "cell_type": "markdown",
   "metadata": {},
   "source": [
    "# <font color=orange>Neural Networks</font>"
   ]
  },
  {
   "cell_type": "code",
   "execution_count": 18,
   "metadata": {
    "scrolled": true
   },
   "outputs": [],
   "source": [
    "pic = np.ndarray((dfDropped.shape[0], 205, 205, 3))\n",
    "index = 0\n",
    "for i in range(sampleSize):\n",
    "    if i in dropIndex:\n",
    "        continue\n",
    "    dataSize = datas[i]['x'].shape[0]\n",
    "    xMin = 1000\n",
    "    xMax = 0\n",
    "    yMin = 1000\n",
    "    yMax = 0\n",
    "    for j in range(dataSize):\n",
    "        x_raw = int(datas[i]['x'][j] / 5)\n",
    "        y_raw = int(datas[i]['y'][j] / 5)\n",
    "        if x_raw < xMin:\n",
    "            xMin = x_raw\n",
    "        if x_raw > xMax:\n",
    "            xMax = x_raw\n",
    "        if y_raw < yMin:\n",
    "            yMin = y_raw\n",
    "        if y_raw > yMax:\n",
    "            yMax = y_raw\n",
    "    xDist = xMax - xMin\n",
    "    yDist = yMax - yMin\n",
    "    for j in range(dataSize):\n",
    "        x = int((datas[i]['x'][j] / 5 - xMin + 1) / xDist * 200)\n",
    "        y = int((datas[i]['y'][j] / 5 - yMin + 1) / yDist * 200)\n",
    "        t = datas[i]['t'][j]\n",
    "        p = datas[i]['p'][j]\n",
    "        pt = datas[i]['pt'][j]\n",
    "        if pic[index,x,y,0] >= 0:\n",
    "            pic[index,x,y,0] = (t + pic[index,x,y,0]) / 2\n",
    "        else:\n",
    "            pic[index,x,y,0] = t\n",
    "        if pic[index,x,y,1] >= 0:\n",
    "            pic[index,x,y,1] = (p + pic[index,x,y,1]) / 2\n",
    "        else:\n",
    "            pic[index,x,y,1] = p\n",
    "        if pic[index,x,y,2] >= 0:\n",
    "            pic[index,x,y,2] = (pt + pic[index,x,y,2]) / 2\n",
    "        else:\n",
    "            pic[index,x,y,2] = pt\n",
    "    index += 1\n",
    "\n",
    "Xn = pic.reshape(len(pic), -1)"
   ]
  },
  {
   "cell_type": "code",
   "execution_count": 19,
   "metadata": {
    "scrolled": false
   },
   "outputs": [
    {
     "data": {
      "image/png": "[encoded data removed]",
      "text/plain": [
       "<Figure size 432x288 with 1 Axes>"
      ]
     },
     "metadata": {},
     "output_type": "display_data"
    }
   ],
   "source": [
    "plt.imshow(pic[0,:,:,1].T, cmap='binary')\n",
    "plt.show()"
   ]
  },
  {
   "cell_type": "code",
   "execution_count": 20,
   "metadata": {},
   "outputs": [],
   "source": [
    "from sklearn.model_selection import train_test_split\n",
    "\n",
    "Y = dfDropped.loc[:, 'diagnosis':'clock_drawing']\n",
    "Xn_train, Xn_test, Y_train, Y_test = train_test_split(Xn, Y, random_state = 0)\n",
    "y_train_diag = Y_train['diagnosis']\n",
    "y_train_clk = Y_train['clock_drawing']\n",
    "y_test_diag = Y_test['diagnosis']\n",
    "y_test_clk = Y_test['clock_drawing']"
   ]
  },
  {
   "cell_type": "code",
   "execution_count": 21,
   "metadata": {
    "scrolled": false
   },
   "outputs": [
    {
     "data": {
      "text/plain": [
       "MLPClassifier(activation='relu', alpha=0.01, batch_size='auto', beta_1=0.9,\n",
       "       beta_2=0.999, early_stopping=False, epsilon=1e-08,\n",
       "       hidden_layer_sizes=[20, 10], learning_rate='constant',\n",
       "       learning_rate_init=0.001, max_iter=200, momentum=0.9,\n",
       "       nesterovs_momentum=True, power_t=0.5, random_state=0, shuffle=True,\n",
       "       solver='adam', tol=0.0001, validation_fraction=0.1, verbose=False,\n",
       "       warm_start=False)"
      ]
     },
     "execution_count": 21,
     "metadata": {},
     "output_type": "execute_result"
    }
   ],
   "source": [
    "from sklearn.neural_network import MLPClassifier\n",
    "\n",
    "nn1 = MLPClassifier(solver = 'adam', alpha = 0.01, hidden_layer_sizes = [20,10], random_state = 0)\n",
    "nn1.fit(Xn_train, y_train_diag)"
   ]
  },
  {
   "cell_type": "code",
   "execution_count": 22,
   "metadata": {
    "scrolled": true
   },
   "outputs": [
    {
     "data": {
      "text/plain": [
       "0.6666666666666666"
      ]
     },
     "execution_count": 22,
     "metadata": {},
     "output_type": "execute_result"
    }
   ],
   "source": [
    "nn1.score(Xn_test, y_test_diag)"
   ]
  },
  {
   "cell_type": "code",
   "execution_count": 23,
   "metadata": {
    "scrolled": false
   },
   "outputs": [
    {
     "name": "stdout",
     "output_type": "stream",
     "text": [
      "[[ 5  6]\n",
      " [ 4 15]]\n",
      "\n",
      "0.6220095693779905\n",
      "\n",
      "             precision    recall  f1-score   support\n",
      "\n",
      "        0.0       0.56      0.45      0.50        11\n",
      "        1.0       0.71      0.79      0.75        19\n",
      "\n",
      "avg / total       0.66      0.67      0.66        30\n",
      "\n"
     ]
    }
   ],
   "source": [
    "from sklearn.metrics import confusion_matrix\n",
    "from sklearn.metrics import roc_auc_score\n",
    "from sklearn.metrics import classification_report\n",
    "y_pred1 = nn1.predict(Xn_test)\n",
    "print(confusion_matrix(y_test_diag, y_pred1))\n",
    "print()\n",
    "roc_auc1 = roc_auc_score(y_test_diag, y_pred1)\n",
    "print(roc_auc1)\n",
    "print()\n",
    "print(classification_report(y_test_diag, y_pred1))"
   ]
  },
  {
   "cell_type": "code",
   "execution_count": 24,
   "metadata": {
    "scrolled": true
   },
   "outputs": [
    {
     "data": {
      "text/plain": [
       "MLPClassifier(activation='relu', alpha=0.0001, batch_size='auto', beta_1=0.9,\n",
       "       beta_2=0.999, early_stopping=False, epsilon=1e-08,\n",
       "       hidden_layer_sizes=[20, 10], learning_rate='constant',\n",
       "       learning_rate_init=0.001, max_iter=200, momentum=0.9,\n",
       "       nesterovs_momentum=True, power_t=0.5, random_state=0, shuffle=True,\n",
       "       solver='adam', tol=0.0001, validation_fraction=0.1, verbose=False,\n",
       "       warm_start=False)"
      ]
     },
     "execution_count": 24,
     "metadata": {},
     "output_type": "execute_result"
    }
   ],
   "source": [
    "from sklearn.neural_network import MLPClassifier\n",
    "\n",
    "nn2 = MLPClassifier(solver = 'adam', hidden_layer_sizes = [20,10], random_state = 0)\n",
    "nn2.fit(Xn_train, y_train_clk)"
   ]
  },
  {
   "cell_type": "code",
   "execution_count": 25,
   "metadata": {},
   "outputs": [
    {
     "data": {
      "text/plain": [
       "0.4"
      ]
     },
     "execution_count": 25,
     "metadata": {},
     "output_type": "execute_result"
    }
   ],
   "source": [
    "nn2.score(Xn_test, y_test_clk)"
   ]
  },
  {
   "cell_type": "code",
   "execution_count": 26,
   "metadata": {
    "scrolled": true
   },
   "outputs": [
    {
     "name": "stdout",
     "output_type": "stream",
     "text": [
      "[[ 5 15]\n",
      " [ 3  7]]\n",
      "\n",
      "0.475\n",
      "\n",
      "             precision    recall  f1-score   support\n",
      "\n",
      "        0.0       0.62      0.25      0.36        20\n",
      "        1.0       0.32      0.70      0.44        10\n",
      "\n",
      "avg / total       0.52      0.40      0.38        30\n",
      "\n"
     ]
    }
   ],
   "source": [
    "from sklearn.metrics import confusion_matrix\n",
    "from sklearn.metrics import roc_auc_score\n",
    "from sklearn.metrics import classification_report\n",
    "y_pred2 = nn2.predict(Xn_test)\n",
    "print(confusion_matrix(y_test_clk, y_pred2))\n",
    "print()\n",
    "roc_auc2 = roc_auc_score(y_test_clk, y_pred2)\n",
    "print(roc_auc2)\n",
    "print()\n",
    "print(classification_report(y_test_clk, y_pred2))"
   ]
  }
 ],
 "metadata": {
  "kernelspec": {
   "display_name": "Python 3",
   "language": "python",
   "name": "python3"
  },
  "language_info": {
   "codemirror_mode": {
    "name": "ipython",
    "version": 3
   },
   "file_extension": ".py",
   "mimetype": "text/x-python",
   "name": "python",
   "nbconvert_exporter": "python",
   "pygments_lexer": "ipython3",
   "version": "3.6.5"
  }
 },
 "nbformat": 4,
 "nbformat_minor": 2
}
